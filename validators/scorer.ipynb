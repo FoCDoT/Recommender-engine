{
 "cells": [
  {
   "cell_type": "code",
   "execution_count": 45,
   "metadata": {},
   "outputs": [],
   "source": [
    "import pandas as pd\n",
    "import numpy as np"
   ]
  },
  {
   "cell_type": "code",
   "execution_count": 289,
   "metadata": {},
   "outputs": [],
   "source": [
    "def pad_remover(x):\n",
    "    \"\"\" input is list from formatted df \n",
    "        output is the new list without -1\"\"\"\n",
    "    x = set(x)\n",
    "    if (-1 in x):\n",
    "        x.remove(-1)\n",
    "    if (\"-1\" in x):\n",
    "        x.remove(\"-1\")\n",
    "    if (\"NaN\" in x):\n",
    "        x.remove(\"NaN\")\n",
    "    if (np.nan in x):\n",
    "        x.remove(np.nan)\n",
    "    if ('nan' in x):\n",
    "        x.remove('nan')\n",
    "    x = list(x)\n",
    "    return x\n",
    "\n",
    "\n",
    "def penalty(public, answer):\n",
    "    \"\"\"\n",
    "    penalty on base of the number of customer present in the answer\"\"\"\n",
    "    a = set(public.CustomerID.unique())\n",
    "    n = public.CustomerID.nunique()\n",
    "    b = set(answer.CustomerID.unique())\n",
    "    p = a.intersection(b)\n",
    "    p = len(p)\n",
    "    miss = (1-(p/n))*100\n",
    "    if miss == 0:\n",
    "        penalty = 0\n",
    "    elif miss <= 10:\n",
    "        penalty = 0.1\n",
    "    elif miss <= 20:\n",
    "        penalty = 0.2\n",
    "    else:\n",
    "        penalty = 0.4\n",
    "\n",
    "    return penalty\n",
    "        \n",
    "\n",
    "def formatter(df):\n",
    "    \"\"\"input : recommended data frame\n",
    "    \n",
    "    formats it such a way that the item columns are stored in single column as a list\n",
    "    \"\"\"\n",
    "    temp = df.apply(lambda x: x[1:].tolist(), axis=1)\n",
    "    cust = df['CustomerID']\n",
    "    df = pd.DataFrame({'CustomerID':cust, 'Items':temp})\n",
    "    df.Items = df.Items.apply(lambda x: pad_remover(x))\n",
    "    return df\n",
    "\n",
    "\n",
    "def working_file(public, answer):\n",
    "    \"\"\"checks for id:\n",
    "    gives inner left join over public data and customer data\"\"\"\n",
    "    df = pd.merge(public,answer, on='CustomerID',how='left')\n",
    "    return df\n",
    "\n",
    "\n",
    "def scorer(df):\n",
    "    \"\"\" generates score for a submission \n",
    "    \"\"\"\n",
    "    if len(df) == 0:\n",
    "        return 0\n",
    "    precision(df)\n",
    "    recall(df)\n",
    "    item_len(df)\n",
    "    rec_len(df)\n",
    "    df['fbeta']= df.apply(lambda x:Fbeta(x[3],x[4],x[5],x[6]),axis=1)\n",
    "    score = df.fbeta.mean()\n",
    "    return score\n",
    "\n",
    "\n",
    "def precision_helper(l1, l2):\n",
    "    \"\"\"\n",
    "    l1: bought parameter\n",
    "    l2: recomended parameter\n",
    "    \"\"\"\n",
    "    a = set(l1)\n",
    "    b = set(l2)\n",
    "    pre = len(a.intersection(b))/len(b)\n",
    "    return pre\n",
    "\n",
    "\n",
    "def precision(df):\n",
    "    df['precision'] = df.apply(lambda x: precision_helper(x[1],x[2]),axis=1)\n",
    "    return df\n",
    "\n",
    "\n",
    "def recall_helper(l1,l2):\n",
    "    \"\"\"\n",
    "    l1: bought parameter\n",
    "    l2: recomended parameter\n",
    "    \"\"\"\n",
    "    a = set(l1)\n",
    "    b = set(l2)\n",
    "    ins = a.intersection(b)\n",
    "    if len(a) > 10:\n",
    "        div = 10\n",
    "    else :\n",
    "        div = len(a)\n",
    "    recall = len(ins)/div\n",
    "    return recall\n",
    "\n",
    "\n",
    "def item_len(df):\n",
    "    df['item_len'] = df.Items_x.apply(lambda x : len(x))\n",
    "    return df['item_len']\n",
    "\n",
    "\n",
    "def rec_len(df):\n",
    "    df['rec_len'] = df.Items_y.apply(lambda x : len(x))\n",
    "    return df['rec_len']\n",
    "\n",
    "\n",
    "def recall(df):\n",
    "    df['recall'] = df.apply(lambda x: recall_helper(x[1],x[2]),axis=1)\n",
    "    return df\n",
    "\n",
    "\n",
    "def Fbeta(precision,recall,item_len,rec_len):\n",
    "    \"\"\"returns fbeta score\n",
    "    note : this contains a slight modified beta score to give more importance to precision\"\"\"\n",
    "    if recall == 0 or precision == 0:\n",
    "        return 0\n",
    "    beta = (item_len / rec_len)**2\n",
    "    fbeta = (1 + beta)* recall *  precision /(precision + beta *recall)\n",
    "    return fbeta"
   ]
  },
  {
   "cell_type": "code",
   "execution_count": 290,
   "metadata": {},
   "outputs": [],
   "source": [
    "df_public = pd.read_csv('online_retail_test_public_rajesh.csv')\n",
    "df_recommended = pd.read_csv('vit_recommend_v3.csv')\n",
    "df_recommended.fillna('-1',inplace=True)\n",
    "df_pub = formatter(df_public)\n",
    "df_ans = formatter(df_recommended)\n",
    "df = working_file(df_pub,df_ans)\n",
    "df = df.dropna()"
   ]
  },
  {
   "cell_type": "code",
   "execution_count": 291,
   "metadata": {},
   "outputs": [],
   "source": [
    "penalty = penalty(df_pub,df_ans)"
   ]
  },
  {
   "cell_type": "code",
   "execution_count": 292,
   "metadata": {},
   "outputs": [],
   "source": [
    "score = scorer(df)"
   ]
  },
  {
   "cell_type": "code",
   "execution_count": 293,
   "metadata": {},
   "outputs": [
    {
     "name": "stdout",
     "output_type": "stream",
     "text": [
      "the final score is :0.7576077969241091\n"
     ]
    }
   ],
   "source": [
    "print(\"the final score is :{}\".format(score*(1-penalty)))"
   ]
  },
  {
   "cell_type": "code",
   "execution_count": null,
   "metadata": {},
   "outputs": [],
   "source": []
  }
 ],
 "metadata": {
  "kernelspec": {
   "display_name": "Python 3",
   "language": "python",
   "name": "python3"
  },
  "language_info": {
   "codemirror_mode": {
    "name": "ipython",
    "version": 3
   },
   "file_extension": ".py",
   "mimetype": "text/x-python",
   "name": "python",
   "nbconvert_exporter": "python",
   "pygments_lexer": "ipython3",
   "version": "3.5.2"
  }
 },
 "nbformat": 4,
 "nbformat_minor": 2
}
