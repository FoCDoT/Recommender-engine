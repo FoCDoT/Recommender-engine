{
 "cells": [
  {
   "cell_type": "code",
   "execution_count": 29,
   "metadata": {},
   "outputs": [],
   "source": [
    "import pandas as pd\n",
    "import matplotlib.pyplot as plt\n",
    "import numpy as np"
   ]
  },
  {
   "cell_type": "code",
   "execution_count": 7,
   "metadata": {},
   "outputs": [
    {
     "data": {
      "text/html": [
       "<div>\n",
       "<style scoped>\n",
       "    .dataframe tbody tr th:only-of-type {\n",
       "        vertical-align: middle;\n",
       "    }\n",
       "\n",
       "    .dataframe tbody tr th {\n",
       "        vertical-align: top;\n",
       "    }\n",
       "\n",
       "    .dataframe thead th {\n",
       "        text-align: right;\n",
       "    }\n",
       "</style>\n",
       "<table border=\"1\" class=\"dataframe\">\n",
       "  <thead>\n",
       "    <tr style=\"text-align: right;\">\n",
       "      <th></th>\n",
       "      <th>InvoiceNo</th>\n",
       "      <th>StockCode</th>\n",
       "      <th>Description</th>\n",
       "      <th>Quantity</th>\n",
       "      <th>InvoiceDate</th>\n",
       "      <th>UnitPrice</th>\n",
       "      <th>CustomerID</th>\n",
       "      <th>Country</th>\n",
       "    </tr>\n",
       "  </thead>\n",
       "  <tbody>\n",
       "    <tr>\n",
       "      <th>0</th>\n",
       "      <td>536365.0</td>\n",
       "      <td>85123A</td>\n",
       "      <td>WHITE HANGING HEART T-LIGHT HOLDER</td>\n",
       "      <td>6</td>\n",
       "      <td>2010-12-01 08:26:00</td>\n",
       "      <td>2.55</td>\n",
       "      <td>17850.0</td>\n",
       "      <td>United Kingdom</td>\n",
       "    </tr>\n",
       "    <tr>\n",
       "      <th>1</th>\n",
       "      <td>536365.0</td>\n",
       "      <td>71053</td>\n",
       "      <td>WHITE METAL LANTERN</td>\n",
       "      <td>6</td>\n",
       "      <td>2010-12-01 08:26:00</td>\n",
       "      <td>3.39</td>\n",
       "      <td>17850.0</td>\n",
       "      <td>United Kingdom</td>\n",
       "    </tr>\n",
       "    <tr>\n",
       "      <th>2</th>\n",
       "      <td>536365.0</td>\n",
       "      <td>84406B</td>\n",
       "      <td>CREAM CUPID HEARTS COAT HANGER</td>\n",
       "      <td>8</td>\n",
       "      <td>2010-12-01 08:26:00</td>\n",
       "      <td>2.75</td>\n",
       "      <td>17850.0</td>\n",
       "      <td>United Kingdom</td>\n",
       "    </tr>\n",
       "    <tr>\n",
       "      <th>3</th>\n",
       "      <td>536365.0</td>\n",
       "      <td>84029G</td>\n",
       "      <td>KNITTED UNION FLAG HOT WATER BOTTLE</td>\n",
       "      <td>6</td>\n",
       "      <td>2010-12-01 08:26:00</td>\n",
       "      <td>3.39</td>\n",
       "      <td>17850.0</td>\n",
       "      <td>United Kingdom</td>\n",
       "    </tr>\n",
       "    <tr>\n",
       "      <th>4</th>\n",
       "      <td>536365.0</td>\n",
       "      <td>84029E</td>\n",
       "      <td>RED WOOLLY HOTTIE WHITE HEART.</td>\n",
       "      <td>6</td>\n",
       "      <td>2010-12-01 08:26:00</td>\n",
       "      <td>3.39</td>\n",
       "      <td>17850.0</td>\n",
       "      <td>United Kingdom</td>\n",
       "    </tr>\n",
       "  </tbody>\n",
       "</table>\n",
       "</div>"
      ],
      "text/plain": [
       "   InvoiceNo StockCode                          Description  Quantity  \\\n",
       "0   536365.0    85123A   WHITE HANGING HEART T-LIGHT HOLDER         6   \n",
       "1   536365.0     71053                  WHITE METAL LANTERN         6   \n",
       "2   536365.0    84406B       CREAM CUPID HEARTS COAT HANGER         8   \n",
       "3   536365.0    84029G  KNITTED UNION FLAG HOT WATER BOTTLE         6   \n",
       "4   536365.0    84029E       RED WOOLLY HOTTIE WHITE HEART.         6   \n",
       "\n",
       "           InvoiceDate  UnitPrice  CustomerID         Country  \n",
       "0  2010-12-01 08:26:00       2.55     17850.0  United Kingdom  \n",
       "1  2010-12-01 08:26:00       3.39     17850.0  United Kingdom  \n",
       "2  2010-12-01 08:26:00       2.75     17850.0  United Kingdom  \n",
       "3  2010-12-01 08:26:00       3.39     17850.0  United Kingdom  \n",
       "4  2010-12-01 08:26:00       3.39     17850.0  United Kingdom  "
      ]
     },
     "execution_count": 7,
     "metadata": {},
     "output_type": "execute_result"
    }
   ],
   "source": [
    "df = pd.read_csv('./data/finalData.csv')\n",
    "df.head()"
   ]
  },
  {
   "cell_type": "code",
   "execution_count": 26,
   "metadata": {},
   "outputs": [],
   "source": [
    "M = df.pivot_table(index=['CustomerID'],columns=['Description'] , values='Quantity')"
   ]
  },
  {
   "cell_type": "code",
   "execution_count": 33,
   "metadata": {},
   "outputs": [
    {
     "data": {
      "text/plain": [
       "Description\n",
       " 4 PURPLE FLOCK DINNER CANDLES         float64\n",
       " 50'S CHRISTMAS GIFT BAG LARGE         float64\n",
       " DOLLY GIRL BEAKER                     float64\n",
       " I LOVE LONDON MINI BACKPACK           float64\n",
       " I LOVE LONDON MINI RUCKSACK           float64\n",
       " NINE DRAWER OFFICE TIDY               float64\n",
       " OVAL WALL MIRROR DIAMANTE             float64\n",
       " RED SPOT GIFT BAG LARGE               float64\n",
       " SET 2 TEA TOWELS I LOVE LONDON        float64\n",
       " SPACEBOY BABY GIFT SET                float64\n",
       " TOADSTOOL BEDSIDE LIGHT               float64\n",
       " TRELLIS COAT RACK                     float64\n",
       "*Boombox Ipod Classic                  float64\n",
       "*USB Office Mirror Ball                float64\n",
       "10 COLOUR SPACEBOY PEN                 float64\n",
       "12 COLOURED PARTY BALLOONS             float64\n",
       "12 DAISY PEGS IN WOOD BOX              float64\n",
       "12 EGG HOUSE PAINTED WOOD              float64\n",
       "12 HANGING EGGS HAND PAINTED           float64\n",
       "12 IVORY ROSE PEG PLACE SETTINGS       float64\n",
       "12 MESSAGE CARDS WITH ENVELOPES        float64\n",
       "12 PENCIL SMALL TUBE WOODLAND          float64\n",
       "12 PENCILS SMALL TUBE RED RETROSPOT    float64\n",
       "12 PENCILS SMALL TUBE SKULL            float64\n",
       "12 PENCILS TALL TUBE POSY              float64\n",
       "12 PENCILS TALL TUBE RED RETROSPOT     float64\n",
       "12 PENCILS TALL TUBE SKULLS            float64\n",
       "12 PENCILS TALL TUBE WOODLAND          float64\n",
       "12 PINK HEN+CHICKS IN BASKET           float64\n",
       "12 PINK ROSE PEG PLACE SETTINGS        float64\n",
       "                                        ...   \n",
       "YELLOW/PINK CERAMIC CANDLE HOLDER      float64\n",
       "YELLOW/PINK FLOWER DESIGN BIG MUG      float64\n",
       "YOU'RE CONFUSING ME METAL SIGN         float64\n",
       "YULETIDE IMAGES GIFT WRAP SET          float64\n",
       "YULETIDE IMAGES S/6 PAPER BOXES        float64\n",
       "ZINC  HEART T-LIGHT HOLDER             float64\n",
       "ZINC  STAR T-LIGHT HOLDER              float64\n",
       "ZINC BOX SIGN HOME                     float64\n",
       "ZINC FINISH 15CM PLANTER POTS          float64\n",
       "ZINC FOLKART SLEIGH BELLS              float64\n",
       "ZINC HEART FLOWER T-LIGHT HOLDER       float64\n",
       "ZINC HEART LATTICE 2 WALL PLANTER      float64\n",
       "ZINC HEART LATTICE CHARGER LARGE       float64\n",
       "ZINC HEART LATTICE CHARGER SMALL       float64\n",
       "ZINC HEART LATTICE T-LIGHT HOLDER      float64\n",
       "ZINC HEART LATTICE TRAY OVAL           float64\n",
       "ZINC HEARTS PLANT POT HOLDER           float64\n",
       "ZINC HERB GARDEN CONTAINER             float64\n",
       "ZINC METAL HEART DECORATION            float64\n",
       "ZINC PLANT POT HOLDER                  float64\n",
       "ZINC STAR T-LIGHT HOLDER               float64\n",
       "ZINC SWEETHEART SOAP DISH              float64\n",
       "ZINC SWEETHEART WIRE LETTER RACK       float64\n",
       "ZINC T-LIGHT HOLDER STAR LARGE         float64\n",
       "ZINC T-LIGHT HOLDER STARS LARGE        float64\n",
       "ZINC T-LIGHT HOLDER STARS SMALL        float64\n",
       "ZINC TOP  2 DOOR WOODEN SHELF          float64\n",
       "ZINC WILLIE WINKIE  CANDLE STICK       float64\n",
       "ZINC WIRE KITCHEN ORGANISER            float64\n",
       "ZINC WIRE SWEETHEART LETTER TRAY       float64\n",
       "Length: 3947, dtype: object"
      ]
     },
     "execution_count": 33,
     "metadata": {},
     "output_type": "execute_result"
    }
   ],
   "source": [
    "M.dtypes"
   ]
  },
  {
   "cell_type": "code",
   "execution_count": 30,
   "metadata": {},
   "outputs": [],
   "source": [
    "def pearsons(i1, i2):\n",
    "    \"\"\"Take 2 pandas series and returns pearsons corellation coefficient\"\"\"\n",
    "    i1_c = i1 - i1.mean()\n",
    "    i2_c = i2 - i2.mean()\n",
    "    return np.sum(i1_c * i2_c)/ np.sqrt(np.sum(i1_c **2) * np.sum(i2_c **2))"
   ]
  },
  {
   "cell_type": "code",
   "execution_count": 38,
   "metadata": {},
   "outputs": [
    {
     "data": {
      "text/plain": [
       "0.0"
      ]
     },
     "execution_count": 38,
     "metadata": {},
     "output_type": "execute_result"
    }
   ],
   "source": [
    "pearsons(M[M.columns[255]],M[M.columns[256]])"
   ]
  },
  {
   "cell_type": "raw",
   "metadata": {},
   "source": []
  },
  {
   "cell_type": "code",
   "execution_count": 44,
   "metadata": {},
   "outputs": [],
   "source": [
    "def recommend(item_name, CM, number ):\n",
    "    print(\"recommendation for {}\".format(item_name))\n",
    "    recommend_list = []\n",
    "    for item in CM.columns:\n",
    "        if item == item_name:\n",
    "            continue\n",
    "        corr = pearsons(CM[item_name], CM[item])\n",
    "        if np.isnan(corr):\n",
    "            continue\n",
    "        else:\n",
    "            recommend_list.append((item, corr))\n",
    "    recommend_list.sort(key = lambda tup: tup[1],reverse = True)\n",
    "    return recommend_list[:number]"
   ]
  },
  {
   "cell_type": "code",
   "execution_count": 45,
   "metadata": {},
   "outputs": [
    {
     "name": "stdout",
     "output_type": "stream",
     "text": [
      "recommendation for ASSTD DESIGN RACING CAR PEN\n"
     ]
    },
    {
     "name": "stderr",
     "output_type": "stream",
     "text": [
      "/home/ekansh/.local/lib/python3.5/site-packages/ipykernel_launcher.py:5: RuntimeWarning: invalid value encountered in double_scalars\n",
      "  \"\"\"\n"
     ]
    },
    {
     "data": {
      "text/plain": [
       "[('CHERRY BLOSSOM PURSE', 0.35692020278981357),\n",
       " ('SILVER BOOK MARK WITH BEADS', 0.25714494480123523),\n",
       " ('POCKET MIRROR WOODLAND', 0.250281267319146),\n",
       " ('TROPICAL HOLIDAY PURSE ', 0.22607825183655936),\n",
       " ('CARTOON  PENCIL SHARPENERS', 0.22156300395255712)]"
      ]
     },
     "execution_count": 45,
     "metadata": {},
     "output_type": "execute_result"
    }
   ],
   "source": [
    "recommend(M.columns[255], M,5)"
   ]
  },
  {
   "cell_type": "code",
   "execution_count": null,
   "metadata": {},
   "outputs": [],
   "source": []
  }
 ],
 "metadata": {
  "kernelspec": {
   "display_name": "Python 3",
   "language": "python",
   "name": "python3"
  },
  "language_info": {
   "codemirror_mode": {
    "name": "ipython",
    "version": 3
   },
   "file_extension": ".py",
   "mimetype": "text/x-python",
   "name": "python",
   "nbconvert_exporter": "python",
   "pygments_lexer": "ipython3",
   "version": "3.5.2"
  }
 },
 "nbformat": 4,
 "nbformat_minor": 2
}
